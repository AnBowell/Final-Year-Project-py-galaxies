{
 "cells": [
  {
   "cell_type": "markdown",
   "metadata": {},
   "source": [
    "<center><h1>Py-Galaxies examples</h1></center>"
   ]
  },
  {
   "cell_type": "markdown",
   "metadata": {},
   "source": [
    "# SUB-HALO Stars"
   ]
  },
  {
   "cell_type": "markdown",
   "metadata": {},
   "source": [
    "## Import modules"
   ]
  },
  {
   "cell_type": "code",
   "execution_count": 1,
   "metadata": {},
   "outputs": [],
   "source": [
    "import PyGalaxies\n",
    "import time\n",
    "import numpy as np\n",
    "\n",
    "#\n",
    "model_param_filepath='Input_Params/input_params.yml'\n",
    "debug_flag = False\n",
    "verbosity = 1 \n",
    "time_code = True"
   ]
  },
  {
   "cell_type": "markdown",
   "metadata": {},
   "source": [
    "## Get model params and print"
   ]
  },
  {
   "cell_type": "code",
   "execution_count": 2,
   "metadata": {},
   "outputs": [
    {
     "name": "stdout",
     "output_type": "stream",
     "text": [
      "input_files         : {'graph_file': '../Input Data/mega_graph_latest.hdf5'}\n",
      "output_files        : {'halo_file': '../Output Data/SMT13HaloOutput.hdf5', 'galaxy_file': '../Output Data/SMT13GalaxyOutput.hdf5'}\n",
      "cosmology           : {'omega_m': {'Description': 'Matter density parameter', 'Value': 0.3, 'Units': 'None'}, 'f_baryon': {'Description': 'Baryon fraction', 'Value': 0.155, 'Units': 'None'}}\n",
      "model_switches      : {'HOD': {'Description': 'Halo occupation description for stars (as primitive test)', 'Value': True}, 'sub_halo': {'Description': 'For each graph, load in Sub-halo data?', 'Value': True}}\n",
      "performance         : {'io_nRec': {'Description': 'Size of HDF5 io buffer (number of records)', 'Value': 1000}}\n"
     ]
    }
   ],
   "source": [
    "model_params = PyGalaxies.ModelParams(model_param_filepath,verbosity,debug_flag)\n",
    "model_params.output_params() "
   ]
  },
  {
   "cell_type": "markdown",
   "metadata": {},
   "source": [
    "## Run main routine"
   ]
  },
  {
   "cell_type": "code",
   "execution_count": 3,
   "metadata": {
    "scrolled": true
   },
   "outputs": [
    {
     "name": "stdout",
     "output_type": "stream",
     "text": [
      "This took 29.38920021057129 seconds\n"
     ]
    }
   ],
   "source": [
    "# Open the input HDF5 file containing graph groups and create an output file.\n",
    "HDF_properties = PyGalaxies.HDFProperties(model_params)\n",
    "\n",
    "\n",
    "\n",
    "start_time = time.time()\n",
    "\n",
    "\n",
    "for graph_ID in range(0,HDF_properties.no_of_graphs)[:]:\n",
    "\n",
    "    if verbosity >= 2: print('Processing graph',graph_ID)\n",
    "    \n",
    "\n",
    "    graph_properties = PyGalaxies.GraphProperties(graph_ID,\n",
    "                                       HDF_properties.graph_input_file,\n",
    "                                       model_params,\n",
    "                                       HDF_properties.part_mass)\n",
    "    \n",
    "    \n",
    "    array_of_halo_properties = np.empty(len(graph_properties.graph_halo_ids),\n",
    "                                        dtype = object)\n",
    "    \n",
    "    if type(graph_properties.n_subhalos) == int:\n",
    "        continue\n",
    "        \n",
    "    for snap_ID in graph_properties.generation_id:\n",
    "        \n",
    "\n",
    "        if graph_properties.generation_start_index[snap_ID] == 2**30:\n",
    "            continue\n",
    "    \n",
    "        \n",
    "        this_generation_halo = graph_properties.graph_halo_ids[\n",
    "                               graph_properties.generation_start_index[snap_ID]:\n",
    "                               graph_properties.generation_start_index[snap_ID] + \n",
    "                               graph_properties.generation_length[snap_ID]]\n",
    "        \n",
    "        for halo_ID in this_generation_halo:\n",
    "            \n",
    "            halo = PyGalaxies.HaloProperties(str(graph_ID),snap_ID,halo_ID,\n",
    "                                  graph_properties,HDF_properties.part_mass)\n",
    "        \n",
    "        \n",
    "        \n",
    "            PyGalaxies.inclusive_mass_contribution(halo)\n",
    "            \n",
    "            \n",
    "            if halo.nprog > 0: \n",
    "                PyGalaxies.gather_progenitors(halo,HDF_properties.part_mass)\n",
    "            else:\n",
    "                halo.mass_from_progenitors = 0.\n",
    "            \n",
    "            PyGalaxies.set_baryon_fraction(halo,array_of_halo_properties,model_params.f_baryon)\n",
    "            \n",
    "            \n",
    "            \n",
    "            halo.extract_sub_halo_data(graph_properties,\n",
    "                           HDF_properties.dtype_subhalo_stores,\n",
    "                           HDF_properties.part_mass,\n",
    "                           model_params.f_baryon)\n",
    "\n",
    "            halo.done=True\n",
    "            \n",
    "            array_of_halo_properties[halo_ID] = halo\n",
    "\n",
    "            HDF_properties.n_halo +=1 \n",
    "\n",
    "    # Save output\n",
    "    HDF_properties.output_halos(array_of_halo_properties)\n",
    "\n",
    "\n",
    "\n",
    "\n",
    "# Close input file\n",
    "HDF_properties.close_graph_io(HDF_properties.graph_input_file)\n",
    "\n",
    "\n",
    "# Close output files\n",
    "if HDF_properties.halo_output_iRec > 0: \n",
    "\n",
    "    halo_output_iRec = HDF_properties.flush_output()\n",
    "    \n",
    "HDF_properties.close_graph_io(HDF_properties.halo_output_file)\n",
    "\n",
    "\n",
    "end_time = time.time()\n",
    "print('This took {} seconds'.format(end_time-start_time))"
   ]
  },
  {
   "cell_type": "code",
   "execution_count": 14,
   "metadata": {},
   "outputs": [
    {
     "data": {
      "text/plain": [
       "{'graph_ID': '975',\n",
       " 'snap_ID': 52,\n",
       " 'halo_ID': 13,\n",
       " 'catalog_ID': 68056,\n",
       " 'mass': 37242965349.419556,\n",
       " 'nprog': 1,\n",
       " 'prog_start': 12,\n",
       " 'prog_end': 13,\n",
       " 'prog_ids': array([12]),\n",
       " 'prog_mass': array([3.72429653e+10]),\n",
       " 'ndesc': 1,\n",
       " 'desc_start': 13,\n",
       " 'desc_end': 14,\n",
       " 'desc_ids': array([14]),\n",
       " 'desc_mass': array([3.72429653e+10]),\n",
       " 'mean_pos': array([34.61936174, 50.70175716, 36.33231109]),\n",
       " 'velocity_dispersion_3D': 50.951448661215544,\n",
       " 'mean_vel': array([-351.37498256,   64.4213341 ,  159.75099727]),\n",
       " 'rms_radius': 0.03572066579517957,\n",
       " 'mass_baryon': 5772659629.160031,\n",
       " 'mass_from_progenitors': 4.9537088143502344e+19,\n",
       " 'mass_baryon_from_progenitors': 0.0,\n",
       " 'inclusive_contribution': array([1.]),\n",
       " 'done': True,\n",
       " 'subhalo_start_index': 0,\n",
       " 'n_subhalo': 1,\n",
       " 'sub_graph_halo_ids': array([0]),\n",
       " 'sub_halo_attrs': array((0, 0.21104259, 2.7932224e+10, 0.),\n",
       "       dtype=[('central_sub_halo_ID', '<i4'), ('central_sub_halo_dist', '<f8'), ('central_sub_halo_mass', '<f8'), ('prog_contrib_mass', '<f8')])}"
      ]
     },
     "execution_count": 14,
     "metadata": {},
     "output_type": "execute_result"
    }
   ],
   "source": [
    "vars(array_of_halo_properties[13])"
   ]
  },
  {
   "cell_type": "code",
   "execution_count": null,
   "metadata": {},
   "outputs": [],
   "source": []
  },
  {
   "cell_type": "code",
   "execution_count": null,
   "metadata": {},
   "outputs": [],
   "source": []
  },
  {
   "cell_type": "code",
   "execution_count": null,
   "metadata": {},
   "outputs": [],
   "source": []
  },
  {
   "cell_type": "code",
   "execution_count": null,
   "metadata": {},
   "outputs": [],
   "source": []
  },
  {
   "cell_type": "code",
   "execution_count": null,
   "metadata": {},
   "outputs": [],
   "source": []
  },
  {
   "cell_type": "code",
   "execution_count": null,
   "metadata": {},
   "outputs": [],
   "source": []
  },
  {
   "cell_type": "code",
   "execution_count": null,
   "metadata": {},
   "outputs": [],
   "source": []
  },
  {
   "cell_type": "code",
   "execution_count": 5,
   "metadata": {},
   "outputs": [],
   "source": [
    "# # Open the input HDF5 file containing graph groups and create an output file.\n",
    "# HDF_properties = PyGalaxies.HDFProperties(model_params)\n",
    "\n",
    "# start_time = time.time()\n",
    "\n",
    "# for graph_ID in range(0,HDF_properties.no_of_graphs)[:]:\n",
    "    \n",
    "#     if verbosity >= 2: print('Processing graph',graph_ID)\n",
    "    \n",
    "\n",
    "#     graph_properties = PyGalaxies.GraphProperties(graph_ID,\n",
    "#                                        HDF_properties.graph_input_file,\n",
    "#                                        model_params,\n",
    "#                                        HDF_properties.part_mass)\n",
    "    \n",
    "    \n",
    "#     array_of_halo_properties = np.empty(len(graph_properties.graph_halo_ids),\n",
    "#                                         dtype = object)\n",
    "\n",
    "    \n",
    "#     # This will be removed when Will updated the files. Just skips over any\n",
    "#     # graphs that don't have subhalos\n",
    "#     if type(graph_properties.n_subhalos) == int:\n",
    "#         continue\n",
    "        \n",
    "#     for snap_ID in graph_properties.generation_id:\n",
    "        \n",
    "\n",
    "#         if graph_properties.generation_start_index[snap_ID] == 2**30:\n",
    "#             continue\n",
    "    \n",
    "        \n",
    "#         this_generation_halo = graph_properties.graph_halo_ids[\n",
    "#                                graph_properties.generation_start_index[snap_ID]:\n",
    "#                                graph_properties.generation_start_index[snap_ID] + \n",
    "#                                graph_properties.generation_length[snap_ID]]\n",
    "        \n",
    "#         for halo_ID in this_generation_halo:\n",
    "            \n",
    "#             halo = PyGalaxies.HaloProperties(str(graph_ID),snap_ID,halo_ID,\n",
    "#                                   graph_properties,HDF_properties.part_mass,\n",
    "#                                   )\n",
    "        \n",
    "            \n",
    "    \n",
    "  \n",
    "#             halo.extract_sub_halo_data(graph_properties,\n",
    "#                                        HDF_properties.dtype_subhalo_stores,\n",
    "#                                        HDF_properties.part_mass,\n",
    "#                                        model_params.f_baryon)\n",
    "                                                            \n",
    "            \n",
    "            \n",
    "# #             if halo.sub_nprog > 0:\n",
    "# #                 PyGalaxies.sub_gather_progenitors()\n",
    "        \n",
    "                    \n",
    "#             halo.done=True\n",
    "#             HDF_properties.n_halo +=1 \n",
    "#             array_of_halo_properties[halo_ID] = halo\n",
    "            \n",
    "\n",
    "    \n",
    "# #     # Save output\n",
    "# #     HDF_properties.output_halos(array_of_halo_properties)\n",
    "\n",
    "\n",
    "\n",
    "\n",
    "# # # Close input file\n",
    "# # HDF_properties.close_graph_io(HDF_properties.graph_input_file)\n",
    "\n",
    "\n",
    "# # # Close output files\n",
    "# # if HDF_properties.halo_output_iRec > 0: \n",
    "\n",
    "# #     halo_output_iRec = HDF_properties.flush_output()\n",
    "    \n",
    "# # HDF_properties.close_graph_io(HDF_properties.halo_output_file)\n",
    "\n",
    "\n",
    "# end_time = time.time()\n",
    "# print('This took {} seconds'.format(end_time-start_time))"
   ]
  }
 ],
 "metadata": {
  "kernelspec": {
   "display_name": "Python 3",
   "language": "python",
   "name": "python3"
  },
  "language_info": {
   "codemirror_mode": {
    "name": "ipython",
    "version": 3
   },
   "file_extension": ".py",
   "mimetype": "text/x-python",
   "name": "python",
   "nbconvert_exporter": "python",
   "pygments_lexer": "ipython3",
   "version": "3.8.5"
  }
 },
 "nbformat": 4,
 "nbformat_minor": 4
}
