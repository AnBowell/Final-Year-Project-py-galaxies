{
 "cells": [
  {
   "cell_type": "markdown",
   "metadata": {},
   "source": [
    "<center><h1>Py-Galaxies examples</h1></center>"
   ]
  },
  {
   "cell_type": "markdown",
   "metadata": {},
   "source": [
    "# SUB-HALO Stars"
   ]
  },
  {
   "cell_type": "markdown",
   "metadata": {},
   "source": [
    "## Import modules"
   ]
  },
  {
   "cell_type": "code",
   "execution_count": 1,
   "metadata": {},
   "outputs": [
    {
     "ename": "IndentationError",
     "evalue": "unexpected indent (PyGalaxies.py, line 889)",
     "output_type": "error",
     "traceback": [
      "Traceback \u001b[1;36m(most recent call last)\u001b[0m:\n",
      "  File \u001b[0;32m\"C:\\Users\\Andrew\\Anaconda3new\\envs\\FYP\\lib\\site-packages\\IPython\\core\\interactiveshell.py\"\u001b[0m, line \u001b[0;32m3417\u001b[0m, in \u001b[0;35mrun_code\u001b[0m\n    exec(code_obj, self.user_global_ns, self.user_ns)\n",
      "\u001b[1;36m  File \u001b[1;32m\"<ipython-input-1-d469bee3662d>\"\u001b[1;36m, line \u001b[1;32m1\u001b[1;36m, in \u001b[1;35m<module>\u001b[1;36m\u001b[0m\n\u001b[1;33m    import PyGalaxies\u001b[0m\n",
      "\u001b[1;36m  File \u001b[1;32m\"W:\\FYP\\Final-Year-Project-py-galaxies\\PyGalaxies.py\"\u001b[1;36m, line \u001b[1;32m889\u001b[0m\n\u001b[1;33m    = all_galaxy_IDs[indicies]\u001b[0m\n\u001b[1;37m    ^\u001b[0m\n\u001b[1;31mIndentationError\u001b[0m\u001b[1;31m:\u001b[0m unexpected indent\n"
     ]
    }
   ],
   "source": [
    "import PyGalaxies\n",
    "import time\n",
    "import numpy as np\n",
    "\n",
    "\n",
    "model_param_filepath='Input_Params/input_params.yml'\n",
    "debug_flag = False\n",
    "verbosity = 1 \n",
    "time_code = True"
   ]
  },
  {
   "cell_type": "markdown",
   "metadata": {},
   "source": [
    "## Get model params and print"
   ]
  },
  {
   "cell_type": "code",
   "execution_count": null,
   "metadata": {},
   "outputs": [],
   "source": [
    "model_params = PyGalaxies.ModelParams(model_param_filepath,verbosity,debug_flag)\n",
    "model_params.output_params() "
   ]
  },
  {
   "cell_type": "markdown",
   "metadata": {},
   "source": [
    "## Run main routine"
   ]
  },
  {
   "cell_type": "code",
   "execution_count": null,
   "metadata": {
    "scrolled": true
   },
   "outputs": [],
   "source": [
    "# Open the input HDF5 file containing graph groups and create an output file.\n",
    "HDF_properties = PyGalaxies.HDFProperties(model_params)\n",
    "\n",
    "\n",
    "\n",
    "start_time = time.time()\n",
    "\n",
    "\n",
    "for graph_ID in range(0,HDF_properties.no_of_graphs)[:]:\n",
    "\n",
    "    if verbosity >= 2: print('Processing graph',graph_ID)\n",
    "    \n",
    "\n",
    "    graph_properties = PyGalaxies.GraphProperties(graph_ID,\n",
    "                                       HDF_properties.graph_input_file,\n",
    "                                       model_params,\n",
    "                                       HDF_properties.part_mass)\n",
    "    \n",
    "    \n",
    "    array_of_halo_properties = np.empty(len(graph_properties.graph_halo_ids),\n",
    "                                        dtype = object)\n",
    "    \n",
    "    if type(graph_properties.n_subhalos) == int:\n",
    "        continue\n",
    "    \n",
    "    for snap_ID in graph_properties.generation_id:\n",
    "        \n",
    "\n",
    "        if graph_properties.generation_start_index[snap_ID] == 2**30:\n",
    "            continue\n",
    "    \n",
    "        \n",
    "        this_generation_halo = graph_properties.graph_halo_ids[\n",
    "                               graph_properties.generation_start_index[snap_ID]:\n",
    "                               graph_properties.generation_start_index[snap_ID] + \n",
    "                               graph_properties.generation_length[snap_ID]]\n",
    "        \n",
    "        for halo_ID in this_generation_halo:\n",
    "            \n",
    "            halo = PyGalaxies.HaloProperties(str(graph_ID), snap_ID, halo_ID,\n",
    "                                  graph_properties, HDF_properties.part_mass,\n",
    "                                  HDF_properties.dtype_subhalo_stores)\n",
    "        \n",
    "        \n",
    "            PyGalaxies.inclusive_mass_contribution(halo)\n",
    "            \n",
    "            if halo.nprog > 0: \n",
    "                PyGalaxies.gather_progenitors(halo,HDF_properties.part_mass)\n",
    "            else:\n",
    "                halo.mass_from_progenitors = 0.\n",
    "            \n",
    "            PyGalaxies.set_baryon_fraction(halo, array_of_halo_properties,\n",
    "                                           model_params.f_baryon)\n",
    "            \n",
    "            \n",
    "            \n",
    "\n",
    "             \n",
    "            halo.collect_galaxy_prog_info(graph_properties, HDF_properties.part_mass,\n",
    "                                          array_of_halo_properties)\n",
    "            \n",
    "            \n",
    "            \n",
    "            \n",
    "                \n",
    "       \n",
    "            \n",
    "        \n",
    "            halo.done=True\n",
    "            \n",
    "            array_of_halo_properties[halo_ID] = halo\n",
    "\n",
    "            HDF_properties.n_halo +=1 \n",
    "\n",
    "    # Save output\n",
    "    HDF_properties.output_halos(array_of_halo_properties)\n",
    "\n",
    "\n",
    "\n",
    "\n",
    "# Close input file\n",
    "HDF_properties.close_graph_io(HDF_properties.graph_input_file)\n",
    "\n",
    "\n",
    "# Close output files\n",
    "if HDF_properties.halo_output_iRec > 0: \n",
    "\n",
    "    halo_output_iRec = HDF_properties.flush_output()\n",
    "    \n",
    "HDF_properties.close_graph_io(HDF_properties.halo_output_file)\n",
    "\n",
    "\n",
    "end_time = time.time()\n",
    "print('This took {} seconds'.format(end_time-start_time))"
   ]
  },
  {
   "cell_type": "code",
   "execution_count": null,
   "metadata": {},
   "outputs": [],
   "source": [
    "vars(array_of_halo_properties[-1])"
   ]
  },
  {
   "cell_type": "code",
   "execution_count": null,
   "metadata": {},
   "outputs": [],
   "source": []
  },
  {
   "cell_type": "code",
   "execution_count": null,
   "metadata": {},
   "outputs": [],
   "source": []
  },
  {
   "cell_type": "code",
   "execution_count": null,
   "metadata": {},
   "outputs": [],
   "source": [
    "dtype = np.dtype([\n",
    "                ('sub_graph_ids', np.int32),\n",
    "                ('prog_DM_mass', np.float64),\n",
    "                ('stellar_mass', np.float64)\n",
    "                ])"
   ]
  },
  {
   "cell_type": "code",
   "execution_count": null,
   "metadata": {},
   "outputs": [],
   "source": [
    "test_array = np.empty(5, dtype = dtype)\n",
    "test_array[:]['sub_graph_ids'] = (1,2,34,5,6)\n",
    "print(test_array)\n",
    "gal_id = 2"
   ]
  },
  {
   "cell_type": "code",
   "execution_count": null,
   "metadata": {},
   "outputs": [],
   "source": [
    "np.where((test_array['sub_graph_ids'] == gal_id))"
   ]
  },
  {
   "cell_type": "code",
   "execution_count": null,
   "metadata": {},
   "outputs": [],
   "source": []
  },
  {
   "cell_type": "code",
   "execution_count": null,
   "metadata": {},
   "outputs": [],
   "source": []
  },
  {
   "cell_type": "code",
   "execution_count": null,
   "metadata": {},
   "outputs": [],
   "source": []
  },
  {
   "cell_type": "code",
   "execution_count": null,
   "metadata": {},
   "outputs": [],
   "source": []
  }
 ],
 "metadata": {
  "kernelspec": {
   "display_name": "Python 3",
   "language": "python",
   "name": "python3"
  },
  "language_info": {
   "codemirror_mode": {
    "name": "ipython",
    "version": 3
   },
   "file_extension": ".py",
   "mimetype": "text/x-python",
   "name": "python",
   "nbconvert_exporter": "python",
   "pygments_lexer": "ipython3",
   "version": "3.8.5"
  },
  "widgets": {
   "application/vnd.jupyter.widget-state+json": {
    "state": {},
    "version_major": 2,
    "version_minor": 0
   }
  }
 },
 "nbformat": 4,
 "nbformat_minor": 4
}
