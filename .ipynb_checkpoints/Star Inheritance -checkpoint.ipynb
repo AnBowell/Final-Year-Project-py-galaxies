{
 "cells": [
  {
   "cell_type": "markdown",
   "metadata": {},
   "source": [
    "<center><h1>Py-Galaxies examples</h1></center>"
   ]
  },
  {
   "cell_type": "markdown",
   "metadata": {},
   "source": [
    "# SUB-HALO Stars"
   ]
  },
  {
   "cell_type": "markdown",
   "metadata": {},
   "source": [
    "## Import modules"
   ]
  },
  {
   "cell_type": "code",
   "execution_count": 1,
   "metadata": {},
   "outputs": [],
   "source": [
    "from PyGalaxies import Parameters, Monitor, HDF_graph_properties, Halos\n",
    "import time\n",
    "import numpy as np\n",
    "\n",
    "\n",
    "model_param_filepath='Input_Params/input_params.yml'\n",
    "debug_flag = False\n",
    "verbosity = 1 \n",
    "time_code = True"
   ]
  },
  {
   "cell_type": "markdown",
   "metadata": {},
   "source": [
    "## Get model params and print"
   ]
  },
  {
   "cell_type": "code",
   "execution_count": 2,
   "metadata": {},
   "outputs": [
    {
     "name": "stdout",
     "output_type": "stream",
     "text": [
      "input_files         : {'graph_file': '../Input Data/mega_graph_mini_09-11.hdf5'}\n",
      "output_files        : {'halo_file': '../Output Data/SMT13HaloOutput.hdf5', 'galaxy_file': '../Output Data/SMT13GalaxyOutput.hdf5'}\n",
      "cosmology           : {'omega_m': {'Description': 'Matter density parameter', 'Value': 0.3, 'Units': 'None'}, 'f_baryon': {'Description': 'Baryon fraction', 'Value': 0.155, 'Units': 'None'}}\n",
      "model_switches      : {'HOD': {'Description': 'Halo occupation description for stars (as primitive test)', 'Value': True}, 'sub_halo': {'Description': 'For each graph, load in Sub-halo data?', 'Value': True}}\n",
      "performance         : {'io_nRec': {'Description': 'Size of HDF5 io buffer (number of records)', 'Value': 1000}}\n",
      "Monitoring          : {'Timing': {'Description': 'Whether or not to time parts of code and save output', 'Value': True, 'graph_save_path': 'Graph_Outputs/Timing/', 'timing_data_save_path': 'Monitoring Data/'}}\n"
     ]
    }
   ],
   "source": [
    "model_params = Parameters.ModelParams(model_param_filepath,verbosity,debug_flag)\n",
    "model_params.output_params() "
   ]
  },
  {
   "cell_type": "markdown",
   "metadata": {},
   "source": [
    "## Run main routine"
   ]
  },
  {
   "cell_type": "code",
   "execution_count": 11,
   "metadata": {
    "scrolled": true
   },
   "outputs": [
    {
     "name": "stdout",
     "output_type": "stream",
     "text": [
      "This took 51.35784077644348 seconds\n"
     ]
    }
   ],
   "source": [
    "# Open the input HDF5 file containing graph groups and create an output file.\n",
    "HDF_properties = HDF_graph_properties.HDFProperties(model_params)\n",
    "\n",
    "start_time = time.time()\n",
    "\n",
    "\n",
    "graph_arrays = []\n",
    "graph_lengths = [] \n",
    "n_halo_in_graph = []\n",
    "\n",
    "\n",
    "for graph_ID in range(0,HDF_properties.no_of_graphs)[:]:\n",
    "\n",
    "    if verbosity >= 2: print('Processing graph',graph_ID)\n",
    "    \n",
    "\n",
    "    graph_properties = HDF_graph_properties.GraphProperties(graph_ID,\n",
    "                                       HDF_properties.graph_input_file,\n",
    "                                       model_params,\n",
    "                                       HDF_properties.part_mass)\n",
    "\n",
    "    \n",
    "    array_of_halo_properties = np.empty(len(graph_properties.graph_halo_ids),\n",
    "                                        dtype = object)\n",
    "    \n",
    "    if type(graph_properties.n_subhalos) == int:\n",
    "        graph_lengths.append(np.nan)\n",
    "        continue\n",
    "    else:\n",
    "        n_halo_in_graph.append(graph_properties.n_halos_in_graph)\n",
    "        graph_lengths.append(np.sum(graph_properties.n_subhalos))\n",
    "    \n",
    "    for snap_ID in graph_properties.generation_id:\n",
    "        \n",
    "\n",
    "        if graph_properties.generation_start_index[snap_ID] == 2**30:\n",
    "            continue\n",
    "    \n",
    "        \n",
    "        this_generation_halo = graph_properties.graph_halo_ids[\n",
    "                               graph_properties.generation_start_index[snap_ID]:\n",
    "                               graph_properties.generation_start_index[snap_ID] + \n",
    "                               graph_properties.generation_length[snap_ID]]\n",
    "        \n",
    "        for halo_ID in this_generation_halo:\n",
    "            \n",
    "            halo = Halos.HaloProperties(str(graph_ID), snap_ID, halo_ID,\n",
    "                                  graph_properties, HDF_properties.part_mass,\n",
    "                                  HDF_properties.dtype_subhalo_stores)\n",
    "            \n",
    "\n",
    "            halo.halo_descendent_props()\n",
    "\n",
    "            halo.calc_halo_DM_descend(HDF_properties.part_mass)\n",
    "\n",
    "            halo.calc_halo_attrs_descend(HDF_properties.part_mass, array_of_halo_properties,\n",
    "                                         HDF_properties.halo_descend_attrs)\n",
    "\n",
    "\n",
    "            \n",
    "            halo.calc_subhalo_attrs_descend(graph_properties, HDF_properties, array_of_halo_properties)\n",
    "            \n",
    "            halo.add_halo_baryon_mass_then_topup(HDF_properties)\n",
    "            \n",
    "            halo.set_baryon_fraction(array_of_halo_properties, model_params.f_baryon)\n",
    "            \n",
    "     \n",
    "\n",
    "            \n",
    "            halo.add_stellar_mass() # Adds on Berhoozi \n",
    "\n",
    "        \n",
    "            halo.done = True\n",
    "            \n",
    "            array_of_halo_properties[halo_ID] = halo\n",
    "\n",
    "            HDF_properties.n_halo +=1 \n",
    "\n",
    "    # Save output\n",
    "    HDF_properties.output_halos(array_of_halo_properties)\n",
    "\n",
    "    graph_arrays.append(array_of_halo_properties)\n",
    "\n",
    "\n",
    "# Close input file\n",
    "HDF_properties.close_graph_io(HDF_properties.graph_input_file)\n",
    "\n",
    "\n",
    "# Close output files\n",
    "if HDF_properties.halo_output_iRec > 0: \n",
    "\n",
    "    halo_output_iRec = HDF_properties.flush_output()\n",
    "    \n",
    "HDF_properties.close_graph_io(HDF_properties.halo_output_file)\n",
    "\n",
    "\n",
    "end_time = time.time()\n",
    "print('This took {} seconds'.format(end_time-start_time))"
   ]
  },
  {
   "cell_type": "code",
   "execution_count": 25,
   "metadata": {
    "scrolled": false
   },
   "outputs": [
    {
     "data": {
      "text/plain": [
       "{'graph_ID': '975',\n",
       " 'snap_ID': 47,\n",
       " 'halo_ID': 8,\n",
       " 'catalog_ID': 8195,\n",
       " 'mass': 34582753538.74673,\n",
       " 'nprog': 1,\n",
       " 'prog_start': 7,\n",
       " 'prog_end': 8,\n",
       " 'prog_ids': array([7]),\n",
       " 'prog_mass': array([3.45827535e+10]),\n",
       " 'ndesc': 1,\n",
       " 'desc_start': 8,\n",
       " 'desc_end': 9,\n",
       " 'desc_ids': array([9]),\n",
       " 'desc_mass': array([3.32526476e+10]),\n",
       " 'mean_pos': array([35.19711069, 50.59284738, 36.0707151 ]),\n",
       " 'velocity_dispersion_3D': 42.63950761595804,\n",
       " 'mean_vel': array([-383.57999009,   64.7667558 ,  173.79184312]),\n",
       " 'rms_radius': 0.04378700778028628,\n",
       " 'redshift': 0.4565772503469474,\n",
       " 'total_halo_stellar_mass': 0.0,\n",
       " 'total_halo_baryon_mass': array([5.56649321e+09]),\n",
       " 'hot_gas': array([5.56649321e+09]),\n",
       " 'cold_gas': array([0.]),\n",
       " 'ejected_gas': array([0.]),\n",
       " 'mass_from_progenitors': 4.599872470468075e+19,\n",
       " 'mass_baryon_from_progenitors': 0.0,\n",
       " 'inclusive_contribution': array([1.]),\n",
       " 'done': True,\n",
       " 'subhalo_start_index': 1073741824,\n",
       " 'n_subhalo': 0,\n",
       " 'sub_halo_attrs': array([],\n",
       "       dtype=[('sub_graph_ids', '<i4'), ('prog_DM_mass', '<f8'), ('stellar_mass', '<f8'), ('AGN_mass', '<f8'), ('descended', '?'), ('SFR', '<f8')]),\n",
       " 'sub_graph_halo_ids': array([], dtype=int32)}"
      ]
     },
     "execution_count": 25,
     "metadata": {},
     "output_type": "execute_result"
    }
   ],
   "source": [
    "vars(array_of_halo_properties[8])"
   ]
  },
  {
   "cell_type": "code",
   "execution_count": null,
   "metadata": {},
   "outputs": [],
   "source": []
  },
  {
   "cell_type": "code",
   "execution_count": 29,
   "metadata": {},
   "outputs": [
    {
     "data": {
      "text/plain": [
       "23"
      ]
     },
     "execution_count": 29,
     "metadata": {},
     "output_type": "execute_result"
    }
   ],
   "source": []
  },
  {
   "cell_type": "code",
   "execution_count": 80,
   "metadata": {
    "scrolled": false
   },
   "outputs": [
    {
     "name": "stderr",
     "output_type": "stream",
     "text": [
      "C:\\Users\\Andrew\\Anaconda3new\\envs\\FYP\\lib\\site-packages\\numpy\\core\\_asarray.py:136: VisibleDeprecationWarning: Creating an ndarray from ragged nested sequences (which is a list-or-tuple of lists-or-tuples-or ndarrays with different lengths or shapes) is deprecated. If you meant to do this, you must specify 'dtype=object' when creating the ndarray\n",
      "  return array(a, dtype, copy=False, order=order, subok=True)\n"
     ]
    },
    {
     "data": {
      "image/png": "[encoded data removed]",
      "text/plain": [
       "<Figure size 720x432 with 3 Axes>"
      ]
     },
     "metadata": {
      "needs_background": "light"
     },
     "output_type": "display_data"
    }
   ],
   "source": [
    "hot_gass = []\n",
    "dm_mass = []\n",
    "stellar_mass = [] \n",
    "prog_mass = []\n",
    "for i in range(0,23):\n",
    "    hot_gass.append(vars(array_of_halo_properties[i])['hot_gas'])\n",
    "    dm_mass.append(vars(array_of_halo_properties[i])['mass'])\n",
    "    prog_mass.append(vars(array_of_halo_properties[i])['mass_from_progenitors'])\n",
    "    stellar_mass.append(vars(array_of_halo_properties[i])['sub_halo_attrs']['stellar_mass'])\n",
    "    \n",
    "\n",
    "fig, ax1 = plt.subplots(figsize = (10, 6))\n",
    "    \n",
    "ax1.plot(dm_mass,color = 'black', lw = 3)\n",
    "ax2 = ax1.twinx()\n",
    "\n",
    "    \n",
    "ax2.plot(hot_gass, color = 'red', lw = 3)\n",
    "\n",
    "ax3 = ax2.twinx()\n",
    "stellar_mass = [i for i in stellar_mass if len(i) == 1]\n",
    "\n",
    "ax3.plot(np.arange(0,len(stellar_mass),1) + 13,stellar_mass)\n",
    "plt.xlim(0,20)\n",
    "\n",
    "plt.show()"
   ]
  },
  {
   "cell_type": "code",
   "execution_count": 69,
   "metadata": {},
   "outputs": [
    {
     "data": {
      "text/plain": [
       "([0.0,\n",
       "  3.538363438821596e+19,\n",
       "  3.715281610762676e+19,\n",
       "  3.892199782703755e+19,\n",
       "  4.422954298526995e+19,\n",
       "  4.422954298526995e+19,\n",
       "  4.776790642409155e+19,\n",
       "  4.599872470468075e+19,\n",
       "  4.599872470468075e+19,\n",
       "  4.422954298526995e+19,\n",
       "  4.422954298526995e+19,\n",
       "  4.776790642409155e+19,\n",
       "  4.9537088143502344e+19,\n",
       "  4.9537088143502344e+19,\n",
       "  4.9537088143502344e+19,\n",
       "  4.599872470468075e+19,\n",
       "  4.599872470468075e+19,\n",
       "  4.9537088143502344e+19,\n",
       "  5.130626986291314e+19,\n",
       "  5.130626986291314e+19,\n",
       "  5.130626986291314e+19,\n",
       "  5.307545158232393e+19,\n",
       "  5.307545158232393e+19],\n",
       " [27932224012.064667,\n",
       "  27932224012.064667,\n",
       "  29262329917.401077,\n",
       "  33252647633.410316,\n",
       "  33252647633.410316,\n",
       "  35912859444.083145,\n",
       "  35912859444.083145,\n",
       "  34582753538.74673,\n",
       "  34582753538.74673,\n",
       "  33252647633.410316,\n",
       "  35912859444.083145,\n",
       "  37242965349.419556,\n",
       "  37242965349.419556,\n",
       "  37242965349.419556,\n",
       "  37242965349.419556,\n",
       "  34582753538.74673,\n",
       "  37242965349.419556,\n",
       "  38573071254.75597,\n",
       "  38573071254.75597,\n",
       "  38573071254.75597,\n",
       "  39903177160.09238,\n",
       "  39903177160.09238,\n",
       "  39903177160.09238],\n",
       " [array([1.10503151e+08]),\n",
       "  array([1.11102723e+08]),\n",
       "  array([1.11102724e+08]),\n",
       "  array([1.1160936e+08]),\n",
       "  array([1.17040138e+08]),\n",
       "  array([1.17040139e+08]),\n",
       "  array([1.1704014e+08]),\n",
       "  array([1.21709185e+08]),\n",
       "  array([1.21709186e+08]),\n",
       "  array([1.21709187e+08])])"
      ]
     },
     "execution_count": 69,
     "metadata": {},
     "output_type": "execute_result"
    }
   ],
   "source": [
    "prog_mass,dm_mass,stellar_mass"
   ]
  },
  {
   "cell_type": "code",
   "execution_count": null,
   "metadata": {},
   "outputs": [],
   "source": []
  },
  {
   "cell_type": "code",
   "execution_count": null,
   "metadata": {},
   "outputs": [],
   "source": []
  },
  {
   "cell_type": "code",
   "execution_count": null,
   "metadata": {},
   "outputs": [],
   "source": []
  },
  {
   "cell_type": "code",
   "execution_count": null,
   "metadata": {},
   "outputs": [],
   "source": []
  },
  {
   "cell_type": "code",
   "execution_count": null,
   "metadata": {},
   "outputs": [],
   "source": []
  },
  {
   "cell_type": "code",
   "execution_count": null,
   "metadata": {},
   "outputs": [],
   "source": []
  }
 ],
 "metadata": {
  "kernelspec": {
   "display_name": "Python 3",
   "language": "python",
   "name": "python3"
  },
  "language_info": {
   "codemirror_mode": {
    "name": "ipython",
    "version": 3
   },
   "file_extension": ".py",
   "mimetype": "text/x-python",
   "name": "python",
   "nbconvert_exporter": "python",
   "pygments_lexer": "ipython3",
   "version": "3.8.5"
  },
  "widgets": {
   "application/vnd.jupyter.widget-state+json": {
    "state": {},
    "version_major": 2,
    "version_minor": 0
   }
  }
 },
 "nbformat": 4,
 "nbformat_minor": 4
}
