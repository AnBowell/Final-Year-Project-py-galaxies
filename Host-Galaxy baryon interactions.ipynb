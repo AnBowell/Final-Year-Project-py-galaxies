{
 "cells": [
  {
   "cell_type": "markdown",
   "metadata": {},
   "source": [
    "<center><h1>Py-Galaxies examples</h1></center>"
   ]
  },
  {
   "cell_type": "markdown",
   "metadata": {},
   "source": [
    "# SUB-HALO Stars"
   ]
  },
  {
   "cell_type": "markdown",
   "metadata": {},
   "source": [
    "## Import modules"
   ]
  },
  {
   "cell_type": "code",
   "execution_count": 1,
   "metadata": {},
   "outputs": [],
   "source": [
    "import PyGalaxies\n",
    "import time\n",
    "import numpy as np\n",
    "\n",
    "\n",
    "model_param_filepath='Input_Params/input_params.yml'\n",
    "debug_flag = False\n",
    "verbosity = 1 \n",
    "time_code = True"
   ]
  },
  {
   "cell_type": "markdown",
   "metadata": {},
   "source": [
    "## Get model params and print"
   ]
  },
  {
   "cell_type": "code",
   "execution_count": 2,
   "metadata": {},
   "outputs": [
    {
     "name": "stdout",
     "output_type": "stream",
     "text": [
      "input_files         : {'graph_file': '../Input Data/mega_graph_mini_09-11.hdf5'}\n",
      "output_files        : {'halo_file': '../Output Data/SMT13HaloOutput.hdf5', 'galaxy_file': '../Output Data/SMT13GalaxyOutput.hdf5'}\n",
      "cosmology           : {'omega_m': {'Description': 'Matter density parameter', 'Value': 0.3, 'Units': 'None'}, 'f_baryon': {'Description': 'Baryon fraction', 'Value': 0.155, 'Units': 'None'}}\n",
      "model_switches      : {'HOD': {'Description': 'Halo occupation description for stars (as primitive test)', 'Value': True}, 'sub_halo': {'Description': 'For each graph, load in Sub-halo data?', 'Value': True}}\n",
      "performance         : {'io_nRec': {'Description': 'Size of HDF5 io buffer (number of records)', 'Value': 1000}}\n",
      "Monitoring          : {'Timing': {'Description': 'Whether or not to time parts of code and save output', 'Value': True, 'graph_save_path': 'Graph_Outputs/Timing/', 'timing_data_save_path': 'Timing Data/'}}\n"
     ]
    }
   ],
   "source": [
    "model_params = PyGalaxies.ModelParams(model_param_filepath,verbosity,debug_flag)\n",
    "model_params.output_params() "
   ]
  },
  {
   "cell_type": "markdown",
   "metadata": {},
   "source": [
    "## Run main routine"
   ]
  },
  {
   "cell_type": "code",
   "execution_count": 3,
   "metadata": {
    "scrolled": true
   },
   "outputs": [
    {
     "name": "stdout",
     "output_type": "stream",
     "text": [
      "This took 48.18633413314819 seconds\n"
     ]
    }
   ],
   "source": [
    "# Open the input HDF5 file containing graph groups and create an output file.\n",
    "HDF_properties = PyGalaxies.HDFProperties(model_params)\n",
    "\n",
    "start_time = time.time()\n",
    "\n",
    "amount_of_funcs = 9\n",
    "\n",
    "time_monitor = PyGalaxies.Monitor(HDF_properties.no_of_graphs, 9)\n",
    "\n",
    "for graph_ID in range(0,HDF_properties.no_of_graphs):\n",
    "\n",
    "    if verbosity >= 2: print('Processing graph',graph_ID)\n",
    "    \n",
    "\n",
    "    graph_properties = PyGalaxies.GraphProperties(graph_ID,\n",
    "                                       HDF_properties.graph_input_file,\n",
    "                                       model_params,\n",
    "                                       HDF_properties.part_mass)\n",
    "\n",
    "    \n",
    "    array_of_halo_properties = np.empty(len(graph_properties.graph_halo_ids),\n",
    "                                        dtype = object)\n",
    "    \n",
    "    if type(graph_properties.n_subhalos) == int:\n",
    "        # Fill timing array with np.nan to show skipped calcs.\n",
    "        time_monitor.time_storage_array[graph_ID, :, :] = np.nan\n",
    "        continue\n",
    "\n",
    "    \n",
    "    # Activating timing function for this graph.\n",
    "    time_monitor.graph_timer_setup(graph_properties.n_halos_in_graph)\n",
    "    \n",
    "    for snap_ID in graph_properties.generation_id:\n",
    "        \n",
    "\n",
    "        if graph_properties.generation_start_index[snap_ID] == 2**30:\n",
    "            continue\n",
    "    \n",
    "        \n",
    "        this_generation_halo = graph_properties.graph_halo_ids[\n",
    "                               graph_properties.generation_start_index[snap_ID]:\n",
    "                               graph_properties.generation_start_index[snap_ID] + \n",
    "                               graph_properties.generation_length[snap_ID]]\n",
    "        \n",
    "        \n",
    "        \n",
    "        for halo_ID in this_generation_halo:\n",
    "            \n",
    "            time_monitor.start_timer()\n",
    "            \n",
    "            halo = PyGalaxies.HaloProperties(str(graph_ID), snap_ID, halo_ID,\n",
    "                                  graph_properties, HDF_properties.part_mass,\n",
    "                                  HDF_properties.dtype_subhalo_stores)\n",
    "            \n",
    "            # Store the time at which this function has been completed\n",
    "            time_monitor.store_func_time(1, halo_ID)\n",
    "            \n",
    "            \n",
    "            \n",
    "            halo.halo_descendent_props()\n",
    "            time_monitor.store_func_time(2, halo_ID)\n",
    "            \n",
    "        \n",
    "            halo.calc_halo_DM_descend(HDF_properties.part_mass)\n",
    "            time_monitor.store_func_time(3, halo_ID)\n",
    "                \n",
    "            \n",
    "            halo.calc_halo_attrs_descend(HDF_properties.part_mass, array_of_halo_properties,\n",
    "                                         HDF_properties.halo_descend_attrs)\n",
    "            time_monitor.store_func_time(4, halo_ID)\n",
    "            \n",
    "            halo.set_baryon_fraction(array_of_halo_properties, model_params.f_baryon)\n",
    "            time_monitor.store_func_time(5, halo_ID)\n",
    "            \n",
    "            halo.collect_galaxy_prog_info(graph_properties, HDF_properties.part_mass,\n",
    "                                          array_of_halo_properties)\n",
    "            time_monitor.store_func_time(6, halo_ID)\n",
    "            \n",
    "            halo.add_baryon_mass()\n",
    "            time_monitor.store_func_time(7, halo_ID)\n",
    "            \n",
    "            halo.add_stellar_mass()\n",
    "            time_monitor.store_func_time(8, halo_ID)\n",
    "            \n",
    "            halo.calculate_infall(model_params.f_baryon)\n",
    "            time_monitor.store_func_time(9, halo_ID)\n",
    "            \n",
    "        \n",
    "            halo.done=True\n",
    "            \n",
    "            array_of_halo_properties[halo_ID] = halo\n",
    "\n",
    "            HDF_properties.n_halo +=1 \n",
    "            \n",
    "            \n",
    "    time_monitor.store_average_graph_times(graph_ID)\n",
    "            \n",
    "            \n",
    "\n",
    "    # Save output\n",
    "    HDF_properties.output_halos(array_of_halo_properties)\n",
    "\n",
    "\n",
    "# Close input file\n",
    "HDF_properties.close_graph_io(HDF_properties.graph_input_file)\n",
    "\n",
    "\n",
    "# Close output files\n",
    "if HDF_properties.halo_output_iRec > 0: \n",
    "\n",
    "    halo_output_iRec = HDF_properties.flush_output()\n",
    "    \n",
    "HDF_properties.close_graph_io(HDF_properties.halo_output_file)\n",
    "\n",
    "\n",
    "if model_params.timing:\n",
    "    time_monitor.save_timing_stats(model_params.timing_data_save_path,\n",
    "                                   model_params.input_filepath)\n",
    "\n",
    "\n",
    "end_time = time.time()\n",
    "print('This took {} seconds'.format(end_time-start_time))"
   ]
  },
  {
   "cell_type": "code",
   "execution_count": 3,
   "metadata": {
    "scrolled": false
   },
   "outputs": [
    {
     "name": "stderr",
     "output_type": "stream",
     "text": [
      "W:\\FYP\\Final-Year-Project-py-galaxies\\PyGalaxies.py:177: UserWarning: FixedFormatter should only be used together with FixedLocator\n",
      "  ax1.set_xticklabels(labels)\n"
     ]
    },
    {
     "data": {
      "image/png": "[encoded data removed]",
      "text/plain": [
       "<Figure size 864x432 with 2 Axes>"
      ]
     },
     "metadata": {
      "needs_background": "light"
     },
     "output_type": "display_data"
    }
   ],
   "source": [
    "PyGalaxies.Monitor.bar_chart_funcs(model_params.timing_data_save_path,\n",
    "                                   model_params.input_filepath,\n",
    "                                   model_params.timing_graph_save_path)"
   ]
  },
  {
   "cell_type": "code",
   "execution_count": null,
   "metadata": {
    "scrolled": false
   },
   "outputs": [],
   "source": [
    "\n"
   ]
  },
  {
   "cell_type": "code",
   "execution_count": null,
   "metadata": {
    "scrolled": false
   },
   "outputs": [],
   "source": []
  },
  {
   "cell_type": "code",
   "execution_count": null,
   "metadata": {
    "scrolled": false
   },
   "outputs": [],
   "source": [
    "\n",
    "\n"
   ]
  },
  {
   "cell_type": "code",
   "execution_count": null,
   "metadata": {},
   "outputs": [],
   "source": []
  },
  {
   "cell_type": "code",
   "execution_count": null,
   "metadata": {},
   "outputs": [],
   "source": []
  },
  {
   "cell_type": "code",
   "execution_count": null,
   "metadata": {},
   "outputs": [],
   "source": []
  },
  {
   "cell_type": "code",
   "execution_count": null,
   "metadata": {},
   "outputs": [],
   "source": []
  },
  {
   "cell_type": "code",
   "execution_count": null,
   "metadata": {},
   "outputs": [],
   "source": []
  },
  {
   "cell_type": "code",
   "execution_count": null,
   "metadata": {},
   "outputs": [],
   "source": []
  }
 ],
 "metadata": {
  "kernelspec": {
   "display_name": "Python 3",
   "language": "python",
   "name": "python3"
  },
  "language_info": {
   "codemirror_mode": {
    "name": "ipython",
    "version": 3
   },
   "file_extension": ".py",
   "mimetype": "text/x-python",
   "name": "python",
   "nbconvert_exporter": "python",
   "pygments_lexer": "ipython3",
   "version": "3.8.5"
  },
  "widgets": {
   "application/vnd.jupyter.widget-state+json": {
    "state": {},
    "version_major": 2,
    "version_minor": 0
   }
  }
 },
 "nbformat": 4,
 "nbformat_minor": 4
}
