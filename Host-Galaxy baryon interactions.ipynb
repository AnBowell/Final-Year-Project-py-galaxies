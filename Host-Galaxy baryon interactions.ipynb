{
 "cells": [
  {
   "cell_type": "markdown",
   "metadata": {},
   "source": [
    "<center><h1>Py-Galaxies examples</h1></center>"
   ]
  },
  {
   "cell_type": "markdown",
   "metadata": {},
   "source": [
    "# SUB-HALO Stars"
   ]
  },
  {
   "cell_type": "markdown",
   "metadata": {},
   "source": [
    "## Import modules"
   ]
  },
  {
   "cell_type": "code",
   "execution_count": 1,
   "metadata": {},
   "outputs": [],
   "source": [
    "import PyGalaxies\n",
    "import time\n",
    "import numpy as np\n",
    "\n",
    "\n",
    "model_param_filepath='Input_Params/input_params.yml'\n",
    "debug_flag = False\n",
    "verbosity = 1 \n",
    "time_code = True"
   ]
  },
  {
   "cell_type": "markdown",
   "metadata": {},
   "source": [
    "## Get model params and print"
   ]
  },
  {
   "cell_type": "code",
   "execution_count": 2,
   "metadata": {},
   "outputs": [
    {
     "name": "stdout",
     "output_type": "stream",
     "text": [
      "input_files         : {'graph_file': '../Input Data/mega_graph_mini_09-11.hdf5'}\n",
      "output_files        : {'halo_file': '../Output Data/SMT13HaloOutput.hdf5', 'galaxy_file': '../Output Data/SMT13GalaxyOutput.hdf5'}\n",
      "cosmology           : {'omega_m': {'Description': 'Matter density parameter', 'Value': 0.3, 'Units': 'None'}, 'f_baryon': {'Description': 'Baryon fraction', 'Value': 0.155, 'Units': 'None'}}\n",
      "model_switches      : {'HOD': {'Description': 'Halo occupation description for stars (as primitive test)', 'Value': True}, 'sub_halo': {'Description': 'For each graph, load in Sub-halo data?', 'Value': True}}\n",
      "performance         : {'io_nRec': {'Description': 'Size of HDF5 io buffer (number of records)', 'Value': 1000}}\n"
     ]
    }
   ],
   "source": [
    "model_params = PyGalaxies.ModelParams(model_param_filepath,verbosity,debug_flag)\n",
    "model_params.output_params() "
   ]
  },
  {
   "cell_type": "markdown",
   "metadata": {},
   "source": [
    "## Run main routine"
   ]
  },
  {
   "cell_type": "code",
   "execution_count": 3,
   "metadata": {
    "scrolled": true
   },
   "outputs": [
    {
     "name": "stdout",
     "output_type": "stream",
     "text": [
      "13601526888.114677 [1.]\n",
      "13480974197.478418 [1.36015269e+10]\n",
      "13379832525.513159 [1.36015269e+10]\n",
      "13305457401.025751 [1.36015269e+10]\n",
      "13246836953.472397 [1.36015269e+10]\n",
      "13199037566.435736 [1.36015269e+10]\n",
      "13162335996.642332 [1.36015269e+10]\n",
      "13138484535.915583 [1.36015269e+10]\n",
      "13117875862.12014 [1.36015269e+10]\n",
      "13102825667.289248 [1.36015269e+10]\n",
      "This took 0.021600961685180664 seconds\n"
     ]
    }
   ],
   "source": [
    "# Open the input HDF5 file containing graph groups and create an output file.\n",
    "HDF_properties = PyGalaxies.HDFProperties(model_params)\n",
    "\n",
    "\n",
    "\n",
    "start_time = time.time()\n",
    "\n",
    "\n",
    "graph_arrays = []\n",
    "graph_lengths = [] \n",
    "n_halo_in_graph = []\n",
    "\n",
    "\n",
    "for graph_ID in range(0,HDF_properties.no_of_graphs)[-1:]:\n",
    "\n",
    "    if verbosity >= 2: print('Processing graph',graph_ID)\n",
    "    \n",
    "\n",
    "    graph_properties = PyGalaxies.GraphProperties(graph_ID,\n",
    "                                       HDF_properties.graph_input_file,\n",
    "                                       model_params,\n",
    "                                       HDF_properties.part_mass)\n",
    "\n",
    "    \n",
    "    array_of_halo_properties = np.empty(len(graph_properties.graph_halo_ids),\n",
    "                                        dtype = object)\n",
    "    \n",
    "    if type(graph_properties.n_subhalos) == int:\n",
    "        graph_lengths.append(np.nan)\n",
    "        continue\n",
    "    else:\n",
    "        n_halo_in_graph.append(graph_properties.n_halos_in_graph)\n",
    "        graph_lengths.append(np.sum(graph_properties.n_subhalos))\n",
    "    \n",
    "    for snap_ID in graph_properties.generation_id:\n",
    "        \n",
    "\n",
    "        if graph_properties.generation_start_index[snap_ID] == 2**30:\n",
    "            continue\n",
    "    \n",
    "        \n",
    "        this_generation_halo = graph_properties.graph_halo_ids[\n",
    "                               graph_properties.generation_start_index[snap_ID]:\n",
    "                               graph_properties.generation_start_index[snap_ID] + \n",
    "                               graph_properties.generation_length[snap_ID]]\n",
    "        \n",
    "        for halo_ID in this_generation_halo:\n",
    "            \n",
    "            halo = PyGalaxies.HaloProperties(str(graph_ID), snap_ID, halo_ID,\n",
    "                                  graph_properties, HDF_properties.part_mass,\n",
    "                                  HDF_properties.dtype_subhalo_stores)\n",
    "        \n",
    "        \n",
    "            PyGalaxies.inclusive_mass_contribution(halo)\n",
    "            \n",
    "            if halo.nprog > 0: \n",
    "                PyGalaxies.gather_progenitors(halo,HDF_properties.part_mass)\n",
    "            else:\n",
    "                halo.mass_from_progenitors = 0.\n",
    "            \n",
    "            PyGalaxies.set_baryon_fraction(halo, array_of_halo_properties,\n",
    "                                           model_params.f_baryon)\n",
    "            \n",
    "            halo.collect_galaxy_prog_info(graph_properties, HDF_properties.part_mass,\n",
    "                                          array_of_halo_properties)\n",
    "            \n",
    "            halo.add_baryon_mass()\n",
    "            halo.add_stellar_mass()\n",
    "            \n",
    "            halo.calculate_infall(model_params.f_baryon)\n",
    "            \n",
    "        \n",
    "            halo.done=True\n",
    "            \n",
    "            array_of_halo_properties[halo_ID] = halo\n",
    "\n",
    "            HDF_properties.n_halo +=1 \n",
    "\n",
    "    # Save output\n",
    "    HDF_properties.output_halos(array_of_halo_properties)\n",
    "\n",
    "    graph_arrays.append(array_of_halo_properties)\n",
    "\n",
    "\n",
    "# Close input file\n",
    "HDF_properties.close_graph_io(HDF_properties.graph_input_file)\n",
    "\n",
    "\n",
    "# Close output files\n",
    "if HDF_properties.halo_output_iRec > 0: \n",
    "\n",
    "    halo_output_iRec = HDF_properties.flush_output()\n",
    "    \n",
    "HDF_properties.close_graph_io(HDF_properties.halo_output_file)\n",
    "\n",
    "\n",
    "end_time = time.time()\n",
    "print('This took {} seconds'.format(end_time-start_time))"
   ]
  },
  {
   "cell_type": "code",
   "execution_count": 4,
   "metadata": {},
   "outputs": [
    {
     "data": {
      "text/plain": [
       "{'graph_ID': '975',\n",
       " 'snap_ID': 61,\n",
       " 'halo_ID': 22,\n",
       " 'catalog_ID': 1816,\n",
       " 'mass': 39903177160.09238,\n",
       " 'nprog': 1,\n",
       " 'prog_start': 21,\n",
       " 'prog_end': 22,\n",
       " 'prog_ids': array([21]),\n",
       " 'prog_mass': array([3.99031772e+10]),\n",
       " 'ndesc': -1,\n",
       " 'desc_start': 1073741824,\n",
       " 'desc_end': 1073741823,\n",
       " 'desc_ids': array([], dtype=int32),\n",
       " 'desc_mass': array([], dtype=float64),\n",
       " 'mean_pos': array([33.91094678, 50.83798803, 36.65987155]),\n",
       " 'velocity_dispersion_3D': 37.06783550241392,\n",
       " 'mean_vel': array([-305.18989563,   60.86648401,  142.69911067]),\n",
       " 'rms_radius': 0.044236223452654815,\n",
       " 'redshift': 4.440892098500626e-16,\n",
       " 'stellar_mass': array([1.36015269e+10]),\n",
       " 'mass_baryon': array([1.28087554e+11]),\n",
       " 'mass_from_progenitors': 5.307545158232393e+19,\n",
       " 'mass_baryon_from_progenitors': 0.0,\n",
       " 'inclusive_contribution': array([], dtype=float64),\n",
       " 'done': True,\n",
       " 'subhalo_start_index': 9,\n",
       " 'n_subhalo': 1,\n",
       " 'sub_halo_attrs': array([(9, 3.89219978e+19, 1.36015269e+10, False, 0.)],\n",
       "       dtype=[('sub_graph_ids', '<i4'), ('prog_DM_mass', '<f8'), ('stellar_mass', '<f8'), ('descended', '?'), ('SFR', '<f8')]),\n",
       " 'sub_graph_halo_ids': array([9]),\n",
       " 'central_galaxy_ID': 9}"
      ]
     },
     "execution_count": 4,
     "metadata": {},
     "output_type": "execute_result"
    }
   ],
   "source": [
    "vars(array_of_halo_properties[-1])"
   ]
  },
  {
   "cell_type": "code",
   "execution_count": 38,
   "metadata": {},
   "outputs": [
    {
     "name": "stdout",
     "output_type": "stream",
     "text": [
      "hio\n",
      "hio\n",
      "hio\n",
      "hio\n",
      "hio\n",
      "hio\n",
      "hio\n",
      "hio\n",
      "hio\n",
      "hio\n",
      "hio\n",
      "hio\n",
      "hio\n",
      "1.3601526888114677429199218750e+10\n",
      "1.3601526889114677429199218750e+10\n",
      "1.3601526890114677429199218750e+10\n",
      "1.3601526891114677429199218750e+10\n",
      "1.3601526892114677429199218750e+10\n",
      "1.3601526893114677429199218750e+10\n",
      "1.3601526894114677429199218750e+10\n",
      "1.3601526895114677429199218750e+10\n",
      "1.3601526896114677429199218750e+10\n",
      "1.3601526897114677429199218750e+10\n"
     ]
    }
   ],
   "source": [
    "for halo in array_of_halo_properties:\n",
    "    try:\n",
    "        print('{:.28e}'.format(halo.sub_halo_attrs['stellar_mass'][0]))\n",
    "    except:\n",
    "        print('hio')"
   ]
  },
  {
   "cell_type": "code",
   "execution_count": 9,
   "metadata": {
    "scrolled": false
   },
   "outputs": [
    {
     "data": {
      "text/plain": [
       "array([], dtype=float64)"
      ]
     },
     "execution_count": 9,
     "metadata": {},
     "output_type": "execute_result"
    }
   ],
   "source": []
  },
  {
   "cell_type": "code",
   "execution_count": null,
   "metadata": {},
   "outputs": [],
   "source": []
  },
  {
   "cell_type": "code",
   "execution_count": null,
   "metadata": {},
   "outputs": [],
   "source": []
  },
  {
   "cell_type": "code",
   "execution_count": null,
   "metadata": {},
   "outputs": [],
   "source": []
  },
  {
   "cell_type": "code",
   "execution_count": null,
   "metadata": {},
   "outputs": [],
   "source": []
  },
  {
   "cell_type": "code",
   "execution_count": null,
   "metadata": {},
   "outputs": [],
   "source": []
  },
  {
   "cell_type": "code",
   "execution_count": null,
   "metadata": {},
   "outputs": [],
   "source": []
  },
  {
   "cell_type": "code",
   "execution_count": null,
   "metadata": {},
   "outputs": [],
   "source": []
  }
 ],
 "metadata": {
  "kernelspec": {
   "display_name": "Python 3",
   "language": "python",
   "name": "python3"
  },
  "language_info": {
   "codemirror_mode": {
    "name": "ipython",
    "version": 3
   },
   "file_extension": ".py",
   "mimetype": "text/x-python",
   "name": "python",
   "nbconvert_exporter": "python",
   "pygments_lexer": "ipython3",
   "version": "3.8.5"
  },
  "widgets": {
   "application/vnd.jupyter.widget-state+json": {
    "state": {},
    "version_major": 2,
    "version_minor": 0
   }
  }
 },
 "nbformat": 4,
 "nbformat_minor": 4
}
