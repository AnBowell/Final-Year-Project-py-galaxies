{
 "cells": [
  {
   "cell_type": "markdown",
   "metadata": {},
   "source": [
    "<center><h1>Py-Galaxies examples</h1></center>"
   ]
  },
  {
   "cell_type": "markdown",
   "metadata": {},
   "source": [
    "# SUB-HALO Stars"
   ]
  },
  {
   "cell_type": "markdown",
   "metadata": {},
   "source": [
    "## Import modules"
   ]
  },
  {
   "cell_type": "code",
   "execution_count": 11,
   "metadata": {},
   "outputs": [],
   "source": [
    "import PyGalaxies\n",
    "import time\n",
    "import numpy as np\n",
    "\n",
    "\n",
    "model_param_filepath='Input_Params/input_params.yml'\n",
    "debug_flag = False\n",
    "verbosity = 1 \n",
    "time_code = True"
   ]
  },
  {
   "cell_type": "markdown",
   "metadata": {},
   "source": [
    "## Get model params and print"
   ]
  },
  {
   "cell_type": "code",
   "execution_count": 12,
   "metadata": {},
   "outputs": [
    {
     "name": "stdout",
     "output_type": "stream",
     "text": [
      "input_files         : {'graph_file': '../Input Data/mega_graph_mini_09-11.hdf5'}\n",
      "output_files        : {'halo_file': '../Output Data/SMT13HaloOutput.hdf5', 'galaxy_file': '../Output Data/SMT13GalaxyOutput.hdf5'}\n",
      "cosmology           : {'omega_m': {'Description': 'Matter density parameter', 'Value': 0.3, 'Units': 'None'}, 'f_baryon': {'Description': 'Baryon fraction', 'Value': 0.155, 'Units': 'None'}}\n",
      "model_switches      : {'HOD': {'Description': 'Halo occupation description for stars (as primitive test)', 'Value': True}, 'sub_halo': {'Description': 'For each graph, load in Sub-halo data?', 'Value': True}}\n",
      "performance         : {'io_nRec': {'Description': 'Size of HDF5 io buffer (number of records)', 'Value': 1000}}\n"
     ]
    }
   ],
   "source": [
    "model_params = PyGalaxies.ModelParams(model_param_filepath,verbosity,debug_flag)\n",
    "model_params.output_params() "
   ]
  },
  {
   "cell_type": "markdown",
   "metadata": {},
   "source": [
    "## Run main routine"
   ]
  },
  {
   "cell_type": "code",
   "execution_count": 13,
   "metadata": {
    "scrolled": true
   },
   "outputs": [
    {
     "name": "stdout",
     "output_type": "stream",
     "text": [
      "This took 35.53764581680298 seconds\n"
     ]
    }
   ],
   "source": [
    "# Open the input HDF5 file containing graph groups and create an output file.\n",
    "HDF_properties = PyGalaxies.HDFProperties(model_params)\n",
    "\n",
    "\n",
    "\n",
    "start_time = time.time()\n",
    "\n",
    "\n",
    "for graph_ID in range(0,HDF_properties.no_of_graphs)[:]:\n",
    "\n",
    "    if verbosity >= 2: print('Processing graph',graph_ID)\n",
    "    \n",
    "\n",
    "    graph_properties = PyGalaxies.GraphProperties(graph_ID,\n",
    "                                       HDF_properties.graph_input_file,\n",
    "                                       model_params,\n",
    "                                       HDF_properties.part_mass)\n",
    "    \n",
    "    \n",
    "    array_of_halo_properties = np.empty(len(graph_properties.graph_halo_ids),\n",
    "                                        dtype = object)\n",
    "    \n",
    "    if type(graph_properties.n_subhalos) == int:\n",
    "        continue\n",
    "    \n",
    "    for snap_ID in graph_properties.generation_id:\n",
    "        \n",
    "\n",
    "        if graph_properties.generation_start_index[snap_ID] == 2**30:\n",
    "            continue\n",
    "    \n",
    "        \n",
    "        this_generation_halo = graph_properties.graph_halo_ids[\n",
    "                               graph_properties.generation_start_index[snap_ID]:\n",
    "                               graph_properties.generation_start_index[snap_ID] + \n",
    "                               graph_properties.generation_length[snap_ID]]\n",
    "        \n",
    "        for halo_ID in this_generation_halo:\n",
    "            \n",
    "            halo = PyGalaxies.HaloProperties(str(graph_ID), snap_ID, halo_ID,\n",
    "                                  graph_properties, HDF_properties.part_mass,\n",
    "                                  HDF_properties.dtype_subhalo_stores)\n",
    "        \n",
    "        \n",
    "            PyGalaxies.inclusive_mass_contribution(halo)\n",
    "            \n",
    "            if halo.nprog > 0: \n",
    "                PyGalaxies.gather_progenitors(halo,HDF_properties.part_mass)\n",
    "            else:\n",
    "                halo.mass_from_progenitors = 0.\n",
    "            \n",
    "            PyGalaxies.set_baryon_fraction(halo, array_of_halo_properties,\n",
    "                                           model_params.f_baryon)\n",
    "            \n",
    "            \n",
    "            \n",
    "\n",
    "             \n",
    "            halo.collect_galaxy_prog_info(graph_properties, HDF_properties.part_mass,\n",
    "                                          array_of_halo_properties)\n",
    "            \n",
    "            \n",
    "            \n",
    "            \n",
    "                \n",
    "       \n",
    "            \n",
    "        \n",
    "            halo.done=True\n",
    "            \n",
    "            array_of_halo_properties[halo_ID] = halo\n",
    "\n",
    "            HDF_properties.n_halo +=1 \n",
    "\n",
    "    # Save output\n",
    "    HDF_properties.output_halos(array_of_halo_properties)\n",
    "\n",
    "\n",
    "\n",
    "\n",
    "# Close input file\n",
    "HDF_properties.close_graph_io(HDF_properties.graph_input_file)\n",
    "\n",
    "\n",
    "# Close output files\n",
    "if HDF_properties.halo_output_iRec > 0: \n",
    "\n",
    "    halo_output_iRec = HDF_properties.flush_output()\n",
    "    \n",
    "HDF_properties.close_graph_io(HDF_properties.halo_output_file)\n",
    "\n",
    "\n",
    "end_time = time.time()\n",
    "print('This took {} seconds'.format(end_time-start_time))"
   ]
  },
  {
   "cell_type": "code",
   "execution_count": 14,
   "metadata": {},
   "outputs": [
    {
     "data": {
      "text/plain": [
       "{'graph_ID': '975',\n",
       " 'snap_ID': 61,\n",
       " 'halo_ID': 22,\n",
       " 'catalog_ID': 1816,\n",
       " 'mass': 39903177160.09238,\n",
       " 'nprog': 1,\n",
       " 'prog_start': 21,\n",
       " 'prog_end': 22,\n",
       " 'prog_ids': array([21]),\n",
       " 'prog_mass': array([3.99031772e+10]),\n",
       " 'ndesc': -1,\n",
       " 'desc_start': 1073741824,\n",
       " 'desc_end': 1073741823,\n",
       " 'desc_ids': array([], dtype=int32),\n",
       " 'desc_mass': array([], dtype=float64),\n",
       " 'mean_pos': array([33.91094678, 50.83798803, 36.65987155]),\n",
       " 'velocity_dispersion_3D': 37.06783550241392,\n",
       " 'mean_vel': array([-305.18989563,   60.86648401,  142.69911067]),\n",
       " 'rms_radius': 0.044236223452654815,\n",
       " 'mass_baryon': 6184992459.814319,\n",
       " 'mass_from_progenitors': 5.307545158232393e+19,\n",
       " 'mass_baryon_from_progenitors': 0.0,\n",
       " 'inclusive_contribution': array([], dtype=float64),\n",
       " 'done': True,\n",
       " 'subhalo_start_index': 9,\n",
       " 'n_subhalo': 1,\n",
       " 'sub_halo_attrs': array([(9, 3.89219978e+19, 10.)],\n",
       "       dtype=[('sub_graph_ids', '<i4'), ('prog_DM_mass', '<f8'), ('stellar_mass', '<f8')]),\n",
       " 'sub_graph_halo_ids': array([9]),\n",
       " 'central_galaxy_ID': 9}"
      ]
     },
     "execution_count": 14,
     "metadata": {},
     "output_type": "execute_result"
    }
   ],
   "source": [
    "vars(array_of_halo_properties[-1])"
   ]
  },
  {
   "cell_type": "code",
   "execution_count": null,
   "metadata": {},
   "outputs": [],
   "source": []
  },
  {
   "cell_type": "code",
   "execution_count": null,
   "metadata": {},
   "outputs": [],
   "source": []
  },
  {
   "cell_type": "code",
   "execution_count": 15,
   "metadata": {},
   "outputs": [],
   "source": [
    "dtype = np.dtype([\n",
    "                ('sub_graph_ids', np.int32),\n",
    "                ('prog_DM_mass', np.float64),\n",
    "                ('stellar_mass', np.float64),\n",
    "                ('descended', bool)\n",
    "                ])"
   ]
  },
  {
   "cell_type": "code",
   "execution_count": null,
   "metadata": {},
   "outputs": [],
   "source": [
    "\n",
    "test_array[:]['sub_graph_ids'] = (1,2,34,5,6)\n",
    "print(test_array)\n",
    "gal_id = 2"
   ]
  },
  {
   "cell_type": "code",
   "execution_count": null,
   "metadata": {},
   "outputs": [],
   "source": [
    "np.where((test_array['sub_graph_ids'] == gal_id))"
   ]
  },
  {
   "cell_type": "code",
   "execution_count": null,
   "metadata": {},
   "outputs": [],
   "source": []
  },
  {
   "cell_type": "code",
   "execution_count": 61,
   "metadata": {},
   "outputs": [
    {
     "name": "stdout",
     "output_type": "stream",
     "text": [
      "[(         0,  1.17711000e+005, 4.51560706e-311, False)\n",
      " ( -16777216, -3.24180904e+178, 1.40808709e-321, False)\n",
      " (         0,  6.01347019e-154, 1.05117818e-153,  True)\n",
      " ( 925969969,  1.21089429e-099, 2.40585681e-057,  True)\n",
      " ( 926037808,  8.04882561e-096, 1.03234313e-259,  True)\n",
      " ( 825040936,  1.03896569e-095, 5.05576908e-038,  True)\n",
      " (1697919033,  3.64464666e-086, 2.00702056e-052,  True)\n",
      " ( 825373485,  2.85427980e-109, 6.01347002e-154,  True)\n",
      " ( 807411744,  2.90252661e-057, 1.26931768e-076,  True)\n",
      " ( 824192054,  9.34863709e-067, 1.05192079e-153,  True)\n",
      " (1702195796,  4.76640645e-038, 1.05118733e-153,  True)\n",
      " ( 926035507,  1.21179510e-099, 2.90737394e-033,  True)\n",
      " ( 926300473,  8.52611571e-096, 1.03234438e-259,  True)\n",
      " ( 892936232,  1.17959814e-095, 7.11876656e-067,  True)\n",
      " (1698182197,  4.24787606e-086, 5.64151042e-062,  True)\n",
      " ( 808988971,  2.85533142e-109, 2.63100583e-052,  True)\n",
      " ( 875902256,  5.06149091e-038, 1.26931635e-076,  True)\n",
      " ( 908078134,  5.64150309e-062, 1.05162661e-153,  True)\n",
      " (1702195796,  4.08742942e-033, 1.05249949e-153,  True)\n",
      " ( 909389369,  5.20939571e-090, 1.03384218e-047,  True)\n",
      " ( 842544178,  1.08669539e-095, 1.03234438e-259,  True)\n",
      " ( 959852840,  1.04006580e-095, 6.74932881e-067,  True)\n",
      " (1698051377,  4.85110546e-086, 4.66538093e-062,  True)\n",
      " ( 875901229,  2.85533142e-109, 7.10831908e-038,  True)\n",
      " ( 909390905,  1.36988822e-071, 1.26931766e-076,  True)\n",
      " ( 840969265,  1.37078036e-071, 1.05148150e-153,  True)\n",
      " (1702195796,  4.76640645e-038, 1.05192080e-153,  True)\n",
      " ( 926363190,  5.20747063e-090, 1.03304036e-047,  True)\n",
      " ( 892746035,  1.18051250e-095, 1.03234438e-259,  True)\n",
      " ( 876027944,  1.18069897e-095, 4.42416372e-062,  True)\n",
      " (1698181940,  3.64464667e-086, 1.40007795e-076,  True)\n",
      " ( 842346541,  2.85533142e-109, 3.50596223e-033,  True)\n",
      " ( 808858422,  1.10897834e-047, 1.26931371e-076,  True)\n",
      " ( 824192051,  1.45002834e-047, 1.05206532e-153,  True)\n",
      " (1702195796,  9.51328498e-043, 1.05250291e-153,  True)\n",
      " ( 892743217,  5.20173650e-090, 8.54400411e-072,  True)\n",
      " ( 959591219,  9.93610496e-096, 1.03234438e-259,  True)\n",
      " ( 926495016,  8.51703635e-096, 4.66376261e-033,  True)\n",
      " (1697920822,  4.65002898e-086, 4.85485981e-033,  True)\n",
      " ( 859058221,  2.85533142e-109, 1.20076521e-071,  True)\n",
      " ( 909718578,  2.21255968e-052, 1.26931504e-076,  True)\n",
      " ( 908078131,  2.42259606e-052, 1.05177285e-153,  True)\n",
      " (1702195796,  4.08667710e-033, 1.05119246e-153,  True)\n",
      " ( 942747185,  5.20556794e-090, 1.57690623e-052,  True)\n",
      " ( 892940340,  1.08651393e-095, 1.03234438e-259,  True)\n",
      " ( 926294056,  8.99979142e-096, 1.48609698e-076,  True)\n",
      " (1698051128,  4.04679959e-086, 3.53604907e-057,  True)\n",
      " ( 909652013,  2.85533142e-109, 6.22899420e-038,  True)\n",
      " ( 825307187,  1.48473972e-076, 1.26931767e-076,  True)\n",
      " ( 857746488,  8.61483255e-043, 1.05162604e-153,  True)\n",
      " (1702195796,  3.12446445e-033, 1.05221213e-153,  True)\n",
      " ( 858795574,  5.20747800e-090, 1.30388024e-076,  True)\n",
      " ( 809055029,  9.92148186e-096, 1.03234438e-259,  True)\n",
      " ( 809050152,  9.92331792e-096, 6.75363592e-067,  True)\n",
      " (1698052153,  3.84572307e-086, 2.58329087e-057,  True)\n",
      " ( 858992685,  2.85533142e-109, 1.17767769e-047,  True)\n",
      " ( 842414390,  1.38133304e-047, 1.26931503e-076,  True)\n",
      " ( 874523702,  5.64435547e-062, 1.05148207e-153,  True)\n",
      " (1702195796,  4.08742942e-033, 1.05220702e-153,  True)\n",
      " ( 892874290,  5.20268398e-090, 4.43744851e-038,  True)\n",
      " ( 842019127,  1.08651251e-095, 1.03234438e-259,  True)\n",
      " ( 926425128,  8.05430508e-096, 2.00359635e-076,  True)\n",
      " (1697920305,  4.24787606e-086, 1.65713892e-076,  True)\n",
      " ( 809054253,  2.85533142e-109, 1.13000840e-042,  True)\n",
      " ( 909457463,  4.46663821e-033, 1.26931304e-076,  True)\n",
      " ( 824192050,  1.48576232e-076, 1.05220929e-153,  True)\n",
      " (1702195796,  5.06150421e-038, 1.05148266e-153,  True)\n",
      " ( 892481080,  5.20077765e-090, 6.76925746e-043,  True)\n",
      " ( 892679219,  1.08632963e-095, 1.03234438e-259,  True)\n",
      " ( 892936232,  7.57885801e-096, 2.11143173e-052,  True)\n",
      " (1698181680,  3.44357012e-086, 5.93511193e-038,  True)\n",
      " ( 859124013,  2.85533142e-109, 1.08551923e-042,  True)\n",
      " ( 926364981,  2.58017446e-057, 1.26931568e-076,  True)\n",
      " ( 891300912,  1.90221581e-052, 1.05148094e-153,  True)\n",
      " (1702195796,  8.61295071e-043, 1.05250179e-153,  True)\n",
      " ( 959852081,  5.20171394e-090, 1.57670232e-052,  True)\n",
      " ( 875574323,  8.52794449e-096, 1.03234438e-259,  True)\n",
      " ( 926425128,  9.92878997e-096, 3.69659063e-057,  True)\n",
      " (1697854257,  4.65002894e-086, 2.09062881e-076,  True)\n",
      " ( 926298157,  2.85533142e-109, 6.75223198e-067,  True)\n",
      " ( 926298673,  1.19920990e-071, 8.31860020e-072,  True)\n",
      " ( 840969267,  5.39651002e-062, 1.05177285e-153,  True)\n",
      " (1702195796,  7.50118210e-067, 1.05250178e-153,  True)\n",
      " ( 858861105,  5.20557547e-090, 1.57649840e-052,  True)\n",
      " ( 875770932,  8.98879701e-096, 1.03234438e-259,  True)\n",
      " ( 959852840,  1.13241776e-095, 1.39939927e-076,  True)\n",
      " (1698051641,  4.24787600e-086, 9.95133470e-043,  True)\n",
      " ( 942878765,  2.85533142e-109, 2.63182786e-052,  True)\n",
      " ( 926495028,  8.23730722e-067, 7.75260305e-072,  True)\n",
      " ( 941632560,  6.52514159e-038, 1.05221043e-153,  True)\n",
      " (1702195796,  7.50118210e-067, 1.05191796e-153,  True)\n",
      " ( 909585974,  5.20844806e-090, 2.90812626e-033,  True)\n",
      " ( 943273012,  1.18051250e-095, 1.03234438e-259,  True)\n",
      " ( 876027944,  1.18069468e-095, 5.64150293e-062,  True)\n",
      " (1697658937,  4.85110539e-086, 3.69661018e-057,  True)\n",
      " ( 859058221,  2.85533142e-109, 4.17919296e-062,  True)\n",
      " ( 842216753,  1.72585243e-047, 8.31857864e-072,  True)\n",
      " ( 908078132,  3.94086545e-062, 1.05235439e-153,  True)\n",
      " (1702195796,  5.64458338e-038, 1.05235667e-153,  True)\n",
      " ( 909520436,  5.20940312e-090, 1.30489229e-076,  True)]\n"
     ]
    }
   ],
   "source": [
    "test_array = np.empty(100, dtype = dtype)\n",
    "print(test_array)"
   ]
  },
  {
   "cell_type": "code",
   "execution_count": 7,
   "metadata": {},
   "outputs": [],
   "source": [
    "x = False"
   ]
  },
  {
   "cell_type": "code",
   "execution_count": 9,
   "metadata": {},
   "outputs": [
    {
     "name": "stdout",
     "output_type": "stream",
     "text": [
      "hey\n"
     ]
    }
   ],
   "source": [
    "if not x:\n",
    "    print('hey')"
   ]
  }
 ],
 "metadata": {
  "kernelspec": {
   "display_name": "Python 3",
   "language": "python",
   "name": "python3"
  },
  "language_info": {
   "codemirror_mode": {
    "name": "ipython",
    "version": 3
   },
   "file_extension": ".py",
   "mimetype": "text/x-python",
   "name": "python",
   "nbconvert_exporter": "python",
   "pygments_lexer": "ipython3",
   "version": "3.8.5"
  },
  "widgets": {
   "application/vnd.jupyter.widget-state+json": {
    "state": {},
    "version_major": 2,
    "version_minor": 0
   }
  }
 },
 "nbformat": 4,
 "nbformat_minor": 4
}
