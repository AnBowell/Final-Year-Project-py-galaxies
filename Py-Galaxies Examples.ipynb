{
 "cells": [
  {
   "cell_type": "markdown",
   "metadata": {},
   "source": [
    "<center><h1>Py-Galaxies examples</h1></center>"
   ]
  },
  {
   "cell_type": "markdown",
   "metadata": {},
   "source": [
    "## Import modules"
   ]
  },
  {
   "cell_type": "code",
   "execution_count": 1,
   "metadata": {},
   "outputs": [],
   "source": [
    "import PyGalaxies\n",
    "import time\n",
    "import numpy as np\n",
    "\n",
    "\n",
    "model_param_filepath='Input_Params/input_params.yml'\n",
    "debug_flag = False\n",
    "verbosity = 1 \n",
    "time_code = True"
   ]
  },
  {
   "cell_type": "markdown",
   "metadata": {},
   "source": [
    "## Get model params and print"
   ]
  },
  {
   "cell_type": "code",
   "execution_count": 2,
   "metadata": {},
   "outputs": [
    {
     "name": "stdout",
     "output_type": "stream",
     "text": [
      "input_files         : {'graph_file': '../Input Data/mega_graph_latest.hdf5'}\n",
      "output_files        : {'halo_file': '../Output Data/SMT13HaloOutput.hdf5', 'galaxy_file': '../Output Data/SMT13GalaxyOutput.hdf5'}\n",
      "cosmology           : {'omega_m': {'Description': 'Matter density parameter', 'Value': 0.3, 'Units': 'None'}, 'f_baryon': {'Description': 'Baryon fraction', 'Value': 0.155, 'Units': 'None'}}\n",
      "model_switches      : {'HOD': {'Description': 'Halo occupation description for stars (as primitive test)', 'Value': True}, 'sub_halo': {'Description': 'For each graph, load in Sub-halo data?', 'Value': False}}\n",
      "performance         : {'io_nRec': {'Description': 'Size of HDF5 io buffer (number of records)', 'Value': 1000}}\n"
     ]
    }
   ],
   "source": [
    "model_params = PyGalaxies.ModelParams(model_param_filepath,verbosity,debug_flag)\n",
    "model_params.output_params()"
   ]
  },
  {
   "cell_type": "markdown",
   "metadata": {},
   "source": [
    "## Run baryon fraction calculations and output"
   ]
  },
  {
   "cell_type": "code",
   "execution_count": 3,
   "metadata": {},
   "outputs": [
    {
     "name": "stdout",
     "output_type": "stream",
     "text": [
      "This took 15.87761402130127 seconds\n"
     ]
    }
   ],
   "source": [
    "# Open the input HDF5 file containing graph groups and create an output file.\n",
    "HDF_properties = PyGalaxies.HDFProperties(model_params)\n",
    "\n",
    "\n",
    "\n",
    "start_time = time.time()\n",
    "\n",
    "\n",
    "for graph_ID in range(0,HDF_properties.no_of_graphs)[:]:\n",
    "    \n",
    "    if verbosity >= 2: print('Processing graph',graph_ID)\n",
    "    \n",
    "\n",
    "    graph_properties = PyGalaxies.GraphProperties(graph_ID,\n",
    "                                       HDF_properties.graph_input_file,\n",
    "                                       model_params,\n",
    "                                       HDF_properties.part_mass)\n",
    "    \n",
    "    \n",
    "    array_of_halo_properties = np.empty(len(graph_properties.graph_halo_ids),\n",
    "                                        dtype = object)\n",
    "\n",
    "        \n",
    "    for snap_ID in graph_properties.generation_id:\n",
    "        \n",
    "\n",
    "        if graph_properties.generation_start_index[snap_ID] == 2**30:\n",
    "            continue\n",
    "    \n",
    "        \n",
    "        this_generation_halo = graph_properties.graph_halo_ids[\n",
    "                               graph_properties.generation_start_index[snap_ID]:\n",
    "                               graph_properties.generation_start_index[snap_ID] + \n",
    "                               graph_properties.generation_length[snap_ID]]\n",
    "        \n",
    "        for halo_ID in this_generation_halo:\n",
    "            \n",
    "            halo = PyGalaxies.HaloProperties(str(graph_ID),snap_ID,halo_ID,\n",
    "                                  graph_properties,HDF_properties.part_mass)\n",
    "        \n",
    "        \n",
    "        \n",
    "            PyGalaxies.inclusive_mass_contribution(halo)\n",
    "            \n",
    "            \n",
    "            if halo.nprog > 0: \n",
    "                PyGalaxies.gather_progenitors(halo,HDF_properties.part_mass)\n",
    "            else:\n",
    "                halo.mass_from_progenitors = 0.\n",
    "                \n",
    "\n",
    "            PyGalaxies.set_baryon_fraction(halo,array_of_halo_properties,model_params.f_baryon)\n",
    "            \n",
    "            halo.done=True\n",
    "            \n",
    "            array_of_halo_properties[halo_ID] = halo\n",
    "\n",
    "            HDF_properties.n_halo +=1 \n",
    "\n",
    "    # Save output\n",
    "    HDF_properties.output_halos(array_of_halo_properties)\n",
    "\n",
    "\n",
    "\n",
    "\n",
    "# Close input file\n",
    "HDF_properties.close_graph_io(HDF_properties.graph_input_file)\n",
    "\n",
    "\n",
    "# Close output files\n",
    "if HDF_properties.halo_output_iRec > 0: \n",
    "\n",
    "    halo_output_iRec = HDF_properties.flush_output()\n",
    "    \n",
    "HDF_properties.close_graph_io(HDF_properties.halo_output_file)\n",
    "\n",
    "\n",
    "end_time = time.time()\n",
    "print('This took {} seconds'.format(end_time-start_time))"
   ]
  },
  {
   "cell_type": "markdown",
   "metadata": {},
   "source": [
    "## Generate baryon fraction plots\n"
   ]
  },
  {
   "cell_type": "code",
   "execution_count": 7,
   "metadata": {},
   "outputs": [],
   "source": [
    "halo_param_file ='input_params/halo_plot_params.yml'"
   ]
  },
  {
   "cell_type": "code",
   "execution_count": 8,
   "metadata": {},
   "outputs": [
    {
     "data": {
      "image/png": "[encoded data removed]",
      "text/plain": [
       "<Figure size 576x360 with 1 Axes>"
      ]
     },
     "metadata": {
      "needs_background": "light"
     },
     "output_type": "display_data"
    }
   ],
   "source": [
    "plot_halos = PyGalaxies.PlotHalos(halo_param_file) # Loads in params and filters\n",
    "\n",
    "plot_halos.generate_plots()"
   ]
  },
  {
   "cell_type": "code",
   "execution_count": null,
   "metadata": {},
   "outputs": [],
   "source": []
  }
 ],
 "metadata": {
  "kernelspec": {
   "display_name": "Python 3",
   "language": "python",
   "name": "python3"
  },
  "language_info": {
   "codemirror_mode": {
    "name": "ipython",
    "version": 3
   },
   "file_extension": ".py",
   "mimetype": "text/x-python",
   "name": "python",
   "nbconvert_exporter": "python",
   "pygments_lexer": "ipython3",
   "version": "3.8.5"
  }
 },
 "nbformat": 4,
 "nbformat_minor": 4
}
